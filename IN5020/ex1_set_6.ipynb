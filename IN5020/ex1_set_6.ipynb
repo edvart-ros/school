{
 "cells": [
  {
   "cell_type": "code",
   "execution_count": 33,
   "metadata": {},
   "outputs": [],
   "source": [
    "import numpy as np\n",
    "import matplotlib.pyplot as plt\n",
    "from sklearn.cluster import KMeans"
   ]
  },
  {
   "cell_type": "code",
   "execution_count": 34,
   "metadata": {},
   "outputs": [],
   "source": [
    "k = 2 # num classes/clusters\n",
    "\n",
    "X = [1.5, 1.7, 2.0, 2.1, 2.9, 3.1, 3.8, 4.0] # samples\n",
    "W = [-1]*len(X) # class associations of samples\n",
    "prev_W = [] # to check if k-means finished\n",
    "\n",
    "mu = [2, 4] # random initial means\n",
    "N = [0]*k # to keep track of number of samples assigned to each cluster"
   ]
  },
  {
   "cell_type": "code",
   "execution_count": 35,
   "metadata": {},
   "outputs": [
    {
     "name": "stdout",
     "output_type": "stream",
     "text": [
      "[2, 4]\n"
     ]
    }
   ],
   "source": [
    "print(mu)\n",
    "while True:\n",
    "    # assign classes\n",
    "    N = [0]*k\n",
    "    for i in range(len(X)):\n",
    "        x = X[i]\n",
    "        min_dist = np.inf\n",
    "        nearest_class = -1\n",
    "        for j in range(len(mu)):\n",
    "            if abs(x-mu[j]) < min_dist:\n",
    "                min_dist = abs(x-mu[j])\n",
    "                nearest_class = j\n",
    "        W[i] = nearest_class\n",
    "        N[nearest_class] += 1\n",
    "    \n",
    "    # compute means\n",
    "    mu = [0]*k\n",
    "    for i in range(len(X)):\n",
    "        x = X[i]\n",
    "        w = W[i]\n",
    "        n = N[w]\n",
    "        if n == 0:\n",
    "            mu[w] += 0\n",
    "        else:\n",
    "            mu[w] += x/N[w]\n",
    "\n",
    "    if W == prev_W:\n",
    "        break\n",
    "    prev_W = W\n"
   ]
  },
  {
   "cell_type": "code",
   "execution_count": 36,
   "metadata": {},
   "outputs": [
    {
     "name": "stdout",
     "output_type": "stream",
     "text": [
      "[0, 0, 0, 0, 1, 1, 1, 1]\n"
     ]
    },
    {
     "data": {
      "image/png": "[encoded data removed]",
      "text/plain": [
       "<Figure size 640x480 with 1 Axes>"
      ]
     },
     "metadata": {},
     "output_type": "display_data"
    }
   ],
   "source": [
    "X_1 = [X[i] for i in range(len(X)) if W[i] == 0]\n",
    "X_2 = [X[i] for i in range(len(X)) if W[i] == 1]\n",
    "plt.plot(X_1, [0]*len(X_1), 'o')\n",
    "plt.plot(X_2, [0]*len(X_2), 'o')\n",
    "plt.plot(mu[0], 0, '*r')\n",
    "plt.plot(mu[1], 0, '*r')\n",
    "print(W)"
   ]
  }
 ],
 "metadata": {
  "kernelspec": {
   "display_name": ".venv",
   "language": "python",
   "name": "python3"
  },
  "language_info": {
   "codemirror_mode": {
    "name": "ipython",
    "version": 3
   },
   "file_extension": ".py",
   "mimetype": "text/x-python",
   "name": "python",
   "nbconvert_exporter": "python",
   "pygments_lexer": "ipython3",
   "version": "3.12.5"
  }
 },
 "nbformat": 4,
 "nbformat_minor": 2
}
