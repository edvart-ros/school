{
 "cells": [
  {
   "cell_type": "code",
   "execution_count": 144,
   "metadata": {},
   "outputs": [],
   "source": [
    "import numpy as np\n",
    "import matplotlib.pyplot as plt\n",
    "import lib"
   ]
  },
  {
   "cell_type": "markdown",
   "metadata": {},
   "source": [
    "### Parse and sort into training and testing data set\n",
    "Structure:\n",
    "I datasett-arrayet er hver rad ett enkelt sample. Første kolonne sier klassetilhørlighet, og de andre kolonnene sier egenskapsverdiene for dette sampelet\n",
    "$$\n",
    "\\begin{bmatrix}\n",
    "\\Omega(\\vec{x}_1) & \\vec{x}_{1,1} & \\vec{x}_{1,2} & \\vec{x}_{1,3} & \\vec{x}_{1,4}\\\\\n",
    "\\Omega(\\vec{x}_2) & \\vec{x}_{2,1} & \\vec{x}_{2,2} & \\vec{x}_{2,3} & \\vec{x}_{2,4}\\\\\n",
    ". & . & . & . & . \\\\\n",
    ". & . & . & . & . \\\\\n",
    "\\Omega(\\vec{x}_n) & \\vec{x}_{n,1} & \\vec{x}_{n,2} & \\vec{x}_{n,3} & \\vec{x}_{n,4}\\\\\n",
    "\\end{bmatrix}\t\n",
    "$$\n",
    "hvor $\\Omega(\\vec{x}_k) \\in \\left\\{ \\omega_1, \\omega_2 \\right\\}$ er klassetilhørigheten til sampelet $\\vec{x}_k$, og\n",
    "$\\vec{x}_{k,i}$ er sampelet $\\vec{x}_{k}$ sin verdi for egenskap $i$\n",
    "\n",
    "Datasett 1: 5 kolonner (4 egenskaper), 300 rader (300 sampler)\n",
    "\n",
    "Datasett 2: 4 kolonner (3 egenskaper), 300 rader (300 sampler)\n",
    "\n",
    "Datasett 3: 4 kolonner (3 egenskaper), 400 rader (400 sampler)"
   ]
  },
  {
   "cell_type": "code",
   "execution_count": 145,
   "metadata": {},
   "outputs": [],
   "source": [
    "data = lib.DataSet('data/ds-1.txt')"
   ]
  },
  {
   "cell_type": "markdown",
   "metadata": {},
   "source": [
    "## Plott egenskap 1 for alle objekter av klasse 1 og klasse 2\n",
    "Vi kan se at distribusjonen ligner på en normalfordeling. Den samme egenskapen ser ut til å ha forskjellig forventningsverdi $\\mu$, og muligens forskjellig varians $\\sigma$"
   ]
  },
  {
   "cell_type": "code",
   "execution_count": 146,
   "metadata": {},
   "outputs": [
    {
     "data": {
      "image/png": "[encoded data removed]",
      "text/plain": [
       "<Figure size 640x480 with 1 Axes>"
      ]
     },
     "metadata": {},
     "output_type": "display_data"
    }
   ],
   "source": [
    "feature = 1\n",
    "class_1_dataset = data.training[data.training[:,0] == 1]\n",
    "class_2_dataset = data.testing[data.testing[:,0] == 2]\n",
    "class_1_feature = class_1_dataset[:,feature]\n",
    "class_2_feature = class_2_dataset[:,feature]\n",
    "\n",
    "plt.hist(class_1_feature, 30)\n",
    "plt.hist(class_2_feature, 30)\n",
    "plt.show()"
   ]
  },
  {
   "cell_type": "markdown",
   "metadata": {},
   "source": [
    "# Minimum Feilrate Klassifikator\n",
    "Her settes opp funksjoner for å beregne størrelsene som er nødvendig for å sette opp diskriminantfunksjonen som skal brukes for å bestemme klassene i nye sampler.\n",
    "\n",
    "Til slutt kombineres disse i en \"pipeline\" som tar inn et gitt datasett, trener opp klassifikatoren og bruker den på test-settet."
   ]
  },
  {
   "cell_type": "code",
   "execution_count": 147,
   "metadata": {},
   "outputs": [],
   "source": [
    "def get_a_priori_probability(dataset, class_number):\n",
    "    num_samples = dataset.shape[0]\n",
    "    class_samples = dataset[dataset[:, 0] == class_number]\n",
    "    class_sample_count = class_samples.shape[0]\n",
    "    return class_sample_count/num_samples\n",
    "\n",
    "def get_sample_mean(dataset, class_number):\n",
    "    class_samples = dataset[dataset[:,0] == class_number] # extract data only for the given class\n",
    "    class_samples = class_samples[:, 1:] # remove the first column (the assigned class)\n",
    "    mu = np.mean(class_samples, axis = 0) # get the mean of the samples\n",
    "    return mu\n",
    "\n",
    "def get_sample_variance(dataset, class_number, mu):\n",
    "    class_samples = dataset[dataset[:, 0] == class_number, 1:]\n",
    "    mean_centered_samples = class_samples - mu\n",
    "    n_samples = class_samples.shape[0]\n",
    "    variance = np.dot(mean_centered_samples.T, mean_centered_samples) / n_samples\n",
    "    return variance\n",
    "\n",
    "def get_W_matrix(sigma):\n",
    "    return -(1/2)*np.linalg.inv(sigma)\n",
    "\n",
    "def get_w_vector(sigma, mu):\n",
    "    return np.linalg.inv(sigma)@mu\n",
    "\n",
    "def get_w0(sigma, mu, P_class):\n",
    "    return -(1/2)*mu.T@np.linalg.inv(sigma)@mu - (1/2)*np.log(np.linalg.det(sigma)) + np.log(P_class)\n",
    "\n",
    "def g_i(sample, W_i, w_i, w_i_0):\n",
    "    return sample.T@W_i@sample + w_i.T@sample + w_i_0\n",
    "\n",
    "def discriminant_function(sample, W_1, W_2, w_1, w_2, w_1_0, w_2_0):\n",
    "    sample = sample[1:] # ignore class column\n",
    "    g_1 = g_i(sample, W_1, w_1, w_1_0)\n",
    "    g_2 = g_i(sample, W_2, w_2, w_2_0)\n",
    "    return g_1-g_2\n",
    "\n",
    "def minimum_error_pipeline(data):\n",
    "    P_class_1 = get_a_priori_probability(data.training, 1)\n",
    "    P_class_2 = get_a_priori_probability(data.training, 2)\n",
    "    mu_1 = get_sample_mean(data.training, 1)\n",
    "    mu_2 = get_sample_mean(data.training, 2)\n",
    "    sigma_1 = get_sample_variance(data.training, 1, mu_1)\n",
    "    sigma_2 = get_sample_variance(data.training, 2, mu_1)\n",
    "\n",
    "    W_1 = get_W_matrix(sigma_1)\n",
    "    W_2 = get_W_matrix(sigma_2)\n",
    "    w_1 = get_w_vector(sigma_1, mu_1)\n",
    "    w_2 = get_w_vector(sigma_2, mu_2)\n",
    "    w_1_0 = get_w0(sigma_1, mu_1, P_class_1)\n",
    "    w_2_0 = get_w0(sigma_2, mu_2, P_class_2)\n",
    "\n",
    "    n_correct = 0\n",
    "    n_incorrect = 0\n",
    "    for sample in data.testing:\n",
    "        true_class = sample[0]\n",
    "        score = discriminant_function(sample, W_1, W_2, w_1, w_2, w_1_0, w_2_0)\n",
    "        if score > 0:\n",
    "            assigned_class = 1\n",
    "        else:\n",
    "            assigned_class = 2\n",
    "        if (true_class == assigned_class):\n",
    "            n_correct += 1\n",
    "        else:\n",
    "            n_incorrect += 1\n",
    "    \n",
    "    print('---------')\n",
    "    print(f\"{data.path}\")\n",
    "    print(f\"accuracy: {n_correct/(n_correct+n_incorrect)*100}%\")"
   ]
  },
  {
   "cell_type": "markdown",
   "metadata": {},
   "source": [
    "## Minste kvadraters"
   ]
  },
  {
   "cell_type": "code",
   "execution_count": 148,
   "metadata": {},
   "outputs": [],
   "source": [
    "def lq_discriminant(sample, a):\n",
    "    x = sample[1:]\n",
    "    y = np.insert(x, 0, 1)\n",
    "    return a.T@y\n",
    "\n",
    "def lq_pipeline(data):\n",
    "    Y = np.copy(data.training)\n",
    "    Y[:,0] = 1 \n",
    "    b = data.training[:, 0]\n",
    "    b = np.where(b == 2, -1, 1)\n",
    "    a = np.linalg.inv(Y.T@Y)@Y.T@b\n",
    "\n",
    "    n_correct = 0\n",
    "    n_incorrect = 0\n",
    "    for sample in data.training:\n",
    "        true_class = sample[0]\n",
    "        result = lq_discriminant(sample, a)\n",
    "        if result >= 0:\n",
    "            assigned_class = 1\n",
    "        else:\n",
    "            assigned_class = 2\n",
    "        if assigned_class == true_class:\n",
    "            n_correct += 1\n",
    "        else:\n",
    "            n_incorrect += 1\n",
    "\n",
    "    print('---------')\n",
    "    print(f\"{data.path}\")\n",
    "    print(f\"accuracy: {n_correct/(n_correct+n_incorrect)*100}%\")"
   ]
  },
  {
   "cell_type": "code",
   "execution_count": 149,
   "metadata": {},
   "outputs": [
    {
     "name": "stdout",
     "output_type": "stream",
     "text": [
      "--- MINIMUM ERROR CLASSIFIER ---\n",
      "---------\n",
      "data/ds-1.txt\n",
      "accuracy: 90.66666666666666%\n",
      "---------\n",
      "data/ds-2.txt\n",
      "accuracy: 94.0%\n",
      "---------\n",
      "data/ds-3.txt\n",
      "accuracy: 89.5%\n",
      "\n",
      " \n",
      " --- LEAST SQUARES CLASSIFIER ---\n",
      "---------\n",
      "data/ds-1.txt\n",
      "accuracy: 90.66666666666666%\n",
      "---------\n",
      "data/ds-2.txt\n",
      "accuracy: 86.66666666666667%\n",
      "---------\n",
      "data/ds-3.txt\n",
      "accuracy: 90.5%\n"
     ]
    }
   ],
   "source": [
    "data_1 = lib.DataSet('data/ds-1.txt')\n",
    "data_2 = lib.DataSet('data/ds-2.txt')\n",
    "data_3 = lib.DataSet('data/ds-3.txt')\n",
    "print(\"--- MINIMUM ERROR CLASSIFIER ---\")\n",
    "minimum_error_pipeline(data_1)\n",
    "minimum_error_pipeline(data_2)\n",
    "minimum_error_pipeline(data_3)\n",
    "print(\"\\n \\n --- LEAST SQUARES CLASSIFIER ---\")\n",
    "lq_pipeline(data_1)\n",
    "lq_pipeline(data_2)\n",
    "lq_pipeline(data_3)"
   ]
  }
 ],
 "metadata": {
  "kernelspec": {
   "display_name": ".venv",
   "language": "python",
   "name": "python3"
  },
  "language_info": {
   "codemirror_mode": {
    "name": "ipython",
    "version": 3
   },
   "file_extension": ".py",
   "mimetype": "text/x-python",
   "name": "python",
   "nbconvert_exporter": "python",
   "pygments_lexer": "ipython3",
   "version": "3.12.5"
  }
 },
 "nbformat": 4,
 "nbformat_minor": 2
}
