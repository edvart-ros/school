{
 "cells": [
  {
   "cell_type": "code",
   "execution_count": 118,
   "metadata": {},
   "outputs": [],
   "source": [
    "from numpy import exp\n",
    "import numpy as np\n",
    "\n",
    "def P_w1(x_k, mu_1, mu_2, sigma):\n",
    "    num = exp((-1/2)*((x_k-mu_1)/sigma)**2)\n",
    "    denom = exp((-1/2)*((x_k-mu_1)/sigma)**2) + exp((-1/2)*((x_k-mu_2)/sigma)**2)\n",
    "    return num/denom\n",
    "\n",
    "def P_w2(x_k, mu_1, mu_2, sigma):\n",
    "    num = exp((-1/2)*((x_k-mu_2)/sigma)**2)\n",
    "    denom = exp((-1/2)*((x_k-mu_1)/sigma)**2) + exp((-1/2)*((x_k-mu_2)/sigma)**2)\n",
    "    return num/denom"
   ]
  },
  {
   "cell_type": "code",
   "execution_count": 119,
   "metadata": {},
   "outputs": [],
   "source": [
    "X = [1.0, 2.9, 4.2, 5.1, 7.3, 5.4, 7.9, 8.8, 9.8, 11.2]\n",
    "\n",
    "mu_1 = 30\n",
    "mu_2 = 0\n",
    "sigma = 2"
   ]
  },
  {
   "cell_type": "code",
   "execution_count": 120,
   "metadata": {},
   "outputs": [
    {
     "name": "stdout",
     "output_type": "stream",
     "text": [
      "11.199961413422464 3.5269661694315686\n",
      "9.251660633922196 3.896090009841345\n",
      "8.852802535325626 3.9453979476959997\n",
      "8.739865601934753 3.9457845314795628\n",
      "8.7042566843389 3.9412847797311574\n",
      "8.692313318378806 3.938302940786019\n",
      "8.688112637915042 3.936805735891103\n",
      "8.686578499055196 3.9361279504491047\n",
      "8.686001900404934 3.93583627458083\n",
      "8.685780615728769 3.935714205877231\n"
     ]
    }
   ],
   "source": [
    "for i in range(10):\n",
    "    num = 0\n",
    "    denom = 0\n",
    "    for x_k in X:\n",
    "        num += P_w1(x_k, mu_1, mu_2, sigma)*x_k\n",
    "        denom += P_w1(x_k, mu_1, mu_2, sigma)\n",
    "    mu_1 = num/denom\n",
    "    num = 0\n",
    "    denom = 0\n",
    "    for x_k in X:\n",
    "        num += P_w2(x_k, mu_1, mu_2, sigma)*x_k\n",
    "        denom += P_w2(x_k, mu_1, mu_2, sigma)\n",
    "    mu_2 = num/denom\n",
    "    print(mu_1, mu_2)\n",
    "    "
   ]
  },
  {
   "cell_type": "code",
   "execution_count": 121,
   "metadata": {},
   "outputs": [
    {
     "name": "stdout",
     "output_type": "stream",
     "text": [
      "0.00182090202289518\n",
      "0.9981790979771049\n"
     ]
    }
   ],
   "source": [
    "x_k = X[0]\n",
    "print(P_w1(x_k, mu_1, mu_2, sigma))\n",
    "print(P_w2(x_k, mu_1, mu_2, sigma))"
   ]
  },
  {
   "cell_type": "code",
   "execution_count": 134,
   "metadata": {},
   "outputs": [
    {
     "data": {
      "text/plain": [
       "(array([1., 1., 0., 1., 2., 0., 2., 1., 1., 1.]),\n",
       " array([ 1.  ,  2.02,  3.04,  4.06,  5.08,  6.1 ,  7.12,  8.14,  9.16,\n",
       "        10.18, 11.2 ]),\n",
       " <BarContainer object of 10 artists>)"
      ]
     },
     "execution_count": 134,
     "metadata": {},
     "output_type": "execute_result"
    },
    {
     "data": {
      "image/png": "[encoded data removed]",
      "text/plain": [
       "<Figure size 640x480 with 1 Axes>"
      ]
     },
     "metadata": {},
     "output_type": "display_data"
    }
   ],
   "source": [
    "import matplotlib.pyplot as plt\n",
    "plt.hist(X)"
   ]
  }
 ],
 "metadata": {
  "kernelspec": {
   "display_name": ".venv",
   "language": "python",
   "name": "python3"
  },
  "language_info": {
   "codemirror_mode": {
    "name": "ipython",
    "version": 3
   },
   "file_extension": ".py",
   "mimetype": "text/x-python",
   "name": "python",
   "nbconvert_exporter": "python",
   "pygments_lexer": "ipython3",
   "version": "3.12.5"
  }
 },
 "nbformat": 4,
 "nbformat_minor": 2
}
