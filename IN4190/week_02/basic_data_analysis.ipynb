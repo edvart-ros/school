{
 "cells": [
  {
   "cell_type": "code",
   "execution_count": 199,
   "metadata": {},
   "outputs": [
    {
     "name": "stdout",
     "output_type": "stream",
     "text": [
      "max error: 2.220446049250313e-16\n"
     ]
    }
   ],
   "source": [
    "import numpy as np\n",
    "\n",
    "def my_convolve(a, b):\n",
    "    pad_length = len(b)-1\n",
    "    a = [0]*(pad_length) + a\n",
    "    c = [0]*len(a)\n",
    "\n",
    "    for n in range(len(c)):\n",
    "        for i in range(min(len(b), len(a)-n)):\n",
    "            c[n] += a[n+i]*b[-1-i]\n",
    "    return c\n",
    "\n",
    "a = np.random.randn(10).tolist()\n",
    "b = np.random.randn(3).tolist()\n",
    "\n",
    "np_result = np.convolve(a, b)\n",
    "my_result = np.array(my_convolve(a, b))\n",
    "print(f\"max error: {np.max(np.abs(np_result-my_result))}\")"
   ]
  }
 ],
 "metadata": {
  "kernelspec": {
   "display_name": ".venv",
   "language": "python",
   "name": "python3"
  },
  "language_info": {
   "codemirror_mode": {
    "name": "ipython",
    "version": 3
   },
   "file_extension": ".py",
   "mimetype": "text/x-python",
   "name": "python",
   "nbconvert_exporter": "python",
   "pygments_lexer": "ipython3",
   "version": "3.12.5"
  }
 },
 "nbformat": 4,
 "nbformat_minor": 2
}
